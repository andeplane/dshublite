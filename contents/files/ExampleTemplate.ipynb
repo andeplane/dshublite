{
  "cells": [
    {
      "attachments": {},
      "cell_type": "markdown",
      "metadata": {},
      "source": [
        "# Welcome to DSHubLite\n",
        "This template file is read only, you should copy it or create a new notebook to get started.\n",
        "\n",
        "All files are stored locally in your browser.\n",
        "\n",
        "Note that it maye take a few moments before the Cognite SDK is installed. If you get an error on that, just wait and try again."
      ]
    },
    {
      "cell_type": "code",
      "execution_count": null,
      "metadata": {
        "trusted": true
      },
      "outputs": [],
      "source": [
        "from cognite.client import CogniteClient, ClientConfig\n",
        "\n",
        "cnf = ClientConfig(client_name=\"DSHub\")\n",
        "client = CogniteClient(cnf)\n",
        "client.assets.list()"
      ]
    },
    {
      "cell_type": "code",
      "execution_count": null,
      "metadata": {},
      "outputs": [],
      "source": []
    }
  ],
  "metadata": {
    "kernelspec": {
      "display_name": "Python (Pyodide)",
      "language": "python",
      "name": "python"
    },
    "language_info": {
      "codemirror_mode": {
        "name": "python",
        "version": 3
      },
      "file_extension": ".py",
      "mimetype": "text/x-python",
      "name": "python",
      "nbconvert_exporter": "python",
      "pygments_lexer": "ipython3",
      "version": "3.8"
    }
  },
  "nbformat": 4,
  "nbformat_minor": 4
}
