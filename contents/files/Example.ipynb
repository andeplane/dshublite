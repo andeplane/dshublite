{
  "metadata": {
    "language_info": {
      "codemirror_mode": {
        "name": "python",
        "version": 3
      },
      "file_extension": ".py",
      "mimetype": "text/x-python",
      "name": "python",
      "nbconvert_exporter": "python",
      "pygments_lexer": "ipython3",
      "version": "3.8"
    },
    "kernelspec": {
      "name": "python",
      "display_name": "Python (Pyodide)",
      "language": "python"
    }
  },
  "nbformat_minor": 4,
  "nbformat": 4,
  "cells": [
    {
      "cell_type": "code",
      "source": "from cognite.client import CogniteClient, ClientConfig, global_config\nfrom cognite.client.credentials import Token\nfrom cognite.client.data_classes import Asset\n\ntoken = \"\"\ndef token_provider():\n    return token\ncnf = ClientConfig(client_name=\"DSHub\", base_url=\"https://api.cognitedata.com\", project=\"andershaf\", credentials=Token(token_provider))\nclient = CogniteClient(cnf)\nprint(client.assets.list())",
      "metadata": {
        "trusted": true
      },
      "execution_count": null,
      "outputs": []
    },
    {
      "cell_type": "code",
      "source": "",
      "metadata": {},
      "execution_count": null,
      "outputs": []
    }
  ]
}