{
  "cells": [
    {
      "cell_type": "code",
      "execution_count": null,
      "metadata": {
        "trusted": true
      },
      "outputs": [],
      "source": [
        "# Note that it maye take a few moments before the Cognite SDK is installed. If you get an error on that, just wait and try again.\n",
        "from cognite.client import CogniteClient, ClientConfig, global_config\n",
        "from cognite.client.credentials import Token\n",
        "from cognite.client.data_classes import Asset\n",
        "\n",
        "token = \"\"\n",
        "def token_provider():\n",
        "    return token\n",
        "cnf = ClientConfig(client_name=\"DSHub\", base_url=\"https://api.cognitedata.com\", project=\"andershaf\", credentials=Token(token_provider))\n",
        "client = CogniteClient(cnf)\n",
        "print(client.assets.list())"
      ]
    },
    {
      "cell_type": "code",
      "execution_count": null,
      "metadata": {},
      "outputs": [],
      "source": []
    }
  ],
  "metadata": {
    "kernelspec": {
      "display_name": "Python (Pyodide)",
      "language": "python",
      "name": "python"
    },
    "language_info": {
      "codemirror_mode": {
        "name": "python",
        "version": 3
      },
      "file_extension": ".py",
      "mimetype": "text/x-python",
      "name": "python",
      "nbconvert_exporter": "python",
      "pygments_lexer": "ipython3",
      "version": "3.8"
    }
  },
  "nbformat": 4,
  "nbformat_minor": 4
}
