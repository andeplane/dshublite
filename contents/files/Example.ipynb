{
  "cells": [
    {
      "attachments": {},
      "cell_type": "markdown",
      "metadata": {},
      "source": [
        "# Welcome to DSHubLite\n",
        "DSHubLite is a Jupyter notebook environment running entirely in the browser. Authentication should be done automatically, so just run the code block below to get started.\n",
        "\n",
        "All files are stored locally in your browser.\n",
        "\n",
        "Note that it maye take a few moments before the Cognite SDK is installed. If you get an error on that, just wait and try again."
      ]
    },
    {
      "cell_type": "code",
      "execution_count": null,
      "metadata": {
        "trusted": true
      },
      "outputs": [],
      "source": [
        "from cognite.client import CogniteClient, ClientConfig\n",
        "from cognite.client.credentials import Token\n",
        "import os\n",
        "\n",
        "def token_provider():\n",
        "    return os.environ[\"COGNITE_TOKEN\"]\n",
        "cnf = ClientConfig(client_name=\"DSHubLite\", base_url=os.environ[\"COGNITE_BASE_URL\"], project=os.environ[\"COGNITE_PROJECT\"], credentials=Token(token_provider))\n",
        "client = CogniteClient(cnf)\n",
        "client.assets.list()"
      ]
    },
    {
      "cell_type": "code",
      "execution_count": null,
      "metadata": {},
      "outputs": [],
      "source": []
    }
  ],
  "metadata": {
    "kernelspec": {
      "display_name": "Python (Pyodide)",
      "language": "python",
      "name": "python"
    },
    "language_info": {
      "codemirror_mode": {
        "name": "python",
        "version": 3
      },
      "file_extension": ".py",
      "mimetype": "text/x-python",
      "name": "python",
      "nbconvert_exporter": "python",
      "pygments_lexer": "ipython3",
      "version": "3.8"
    }
  },
  "nbformat": 4,
  "nbformat_minor": 4
}
